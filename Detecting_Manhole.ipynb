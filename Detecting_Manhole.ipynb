{
  "nbformat": 4,
  "nbformat_minor": 0,
  "metadata": {
    "colab": {
      "provenance": [],
      "gpuType": "T4"
    },
    "kernelspec": {
      "name": "python3",
      "display_name": "Python 3"
    },
    "language_info": {
      "name": "python"
    },
    "accelerator": "GPU"
  },
  "cells": [
    {
      "cell_type": "markdown",
      "source": [
        "# **Setting Up**"
      ],
      "metadata": {
        "id": "TwWqF87plHEr"
      }
    },
    {
      "cell_type": "code",
      "execution_count": null,
      "metadata": {
        "colab": {
          "base_uri": "https://localhost:8080/"
        },
        "id": "1vpI2Py1K0Ge",
        "outputId": "c49de77a-902e-4b7b-edd1-85ef6ab74b09"
      },
      "outputs": [
        {
          "output_type": "stream",
          "name": "stderr",
          "text": [
            "YOLOv5 🚀 v7.0-307-g920c721e Python-3.10.12 torch-2.2.1+cu121 CUDA:0 (Tesla T4, 15102MiB)\n"
          ]
        },
        {
          "output_type": "stream",
          "name": "stdout",
          "text": [
            "Setup complete ✅ (2 CPUs, 12.7 GB RAM, 28.9/78.2 GB disk)\n"
          ]
        }
      ],
      "source": [
        "!git clone https://github.com/ultralytics/yolov5 # clone\n",
        "\n",
        "%cd yolov5\n",
        "\n",
        "%pip install -qr requirements.txt comet_ml # install\n",
        "\n",
        "import torch\n",
        "\n",
        "import utils\n",
        "\n",
        "display = utils.notebook_init() # checks"
      ]
    },
    {
      "cell_type": "code",
      "source": [
        "!python detect.py --weights yolov5s.pt --img 640 --conf 0.25 --source data/images"
      ],
      "metadata": {
        "colab": {
          "base_uri": "https://localhost:8080/"
        },
        "id": "OaSZCg2BMA5f",
        "outputId": "69cc99a4-6736-4b82-89ad-4502526694ee"
      },
      "execution_count": null,
      "outputs": [
        {
          "output_type": "stream",
          "name": "stdout",
          "text": [
            "\u001b[34m\u001b[1mdetect: \u001b[0mweights=['yolov5s.pt'], source=data/images, data=data/coco128.yaml, imgsz=[640, 640], conf_thres=0.25, iou_thres=0.45, max_det=1000, device=, view_img=False, save_txt=False, save_csv=False, save_conf=False, save_crop=False, nosave=False, classes=None, agnostic_nms=False, augment=False, visualize=False, update=False, project=runs/detect, name=exp, exist_ok=False, line_thickness=3, hide_labels=False, hide_conf=False, half=False, dnn=False, vid_stride=1\n",
            "YOLOv5 🚀 v7.0-307-g920c721e Python-3.10.12 torch-2.2.1+cu121 CUDA:0 (Tesla T4, 15102MiB)\n",
            "\n",
            "Downloading https://github.com/ultralytics/yolov5/releases/download/v7.0/yolov5s.pt to yolov5s.pt...\n",
            "100% 14.1M/14.1M [00:00<00:00, 113MB/s] \n",
            "\n",
            "Fusing layers... \n",
            "YOLOv5s summary: 213 layers, 7225885 parameters, 0 gradients, 16.4 GFLOPs\n",
            "WARNING ⚠️ NMS time limit 0.550s exceeded\n",
            "image 1/2 /content/yolov5/data/images/bus.jpg: 640x480 4 persons, 1 bus, 50.4ms\n",
            "image 2/2 /content/yolov5/data/images/zidane.jpg: 384x640 2 persons, 2 ties, 53.8ms\n",
            "Speed: 0.6ms pre-process, 52.1ms inference, 349.0ms NMS per image at shape (1, 3, 640, 640)\n",
            "Results saved to \u001b[1mruns/detect/exp\u001b[0m\n"
          ]
        }
      ]
    },
    {
      "cell_type": "markdown",
      "source": [
        "# **Import your Testing Data here**"
      ],
      "metadata": {
        "id": "0zV0fr2RlR9O"
      }
    },
    {
      "cell_type": "code",
      "source": [
        "from google.colab import drive\n",
        "\n",
        "# Mount Google Drive\n",
        "drive.mount('/content/drive')"
      ],
      "metadata": {
        "colab": {
          "base_uri": "https://localhost:8080/"
        },
        "id": "M_xAcZNLMIK2",
        "outputId": "c071f71a-f952-4760-cddc-ee6f01befacd"
      },
      "execution_count": null,
      "outputs": [
        {
          "output_type": "stream",
          "name": "stdout",
          "text": [
            "Mounted at /content/drive\n"
          ]
        }
      ]
    },
    {
      "cell_type": "code",
      "source": [
        "!python detect.py --weights /content/drive/MyDrive/Manhole_model.pt --img 640 --conf 0.25 --source /content/drive/MyDrive/test_manhole"
      ],
      "metadata": {
        "colab": {
          "base_uri": "https://localhost:8080/"
        },
        "id": "6MahYo0OM1Z1",
        "outputId": "7252f116-0696-4203-8516-6ad9ff40207f"
      },
      "execution_count": null,
      "outputs": [
        {
          "output_type": "stream",
          "name": "stdout",
          "text": [
            "\u001b[34m\u001b[1mdetect: \u001b[0mweights=['/content/drive/MyDrive/Manhole_model.pt'], source=/content/drive/MyDrive/test_manhole, data=data/coco128.yaml, imgsz=[640, 640], conf_thres=0.25, iou_thres=0.45, max_det=1000, device=, view_img=False, save_txt=False, save_csv=False, save_conf=False, save_crop=False, nosave=False, classes=None, agnostic_nms=False, augment=False, visualize=False, update=False, project=runs/detect, name=exp, exist_ok=False, line_thickness=3, hide_labels=False, hide_conf=False, half=False, dnn=False, vid_stride=1\n",
            "YOLOv5 🚀 v7.0-307-g920c721e Python-3.10.12 torch-2.2.1+cu121 CUDA:0 (Tesla T4, 15102MiB)\n",
            "\n",
            "Fusing layers... \n",
            "Model summary: 157 layers, 7012822 parameters, 0 gradients, 15.8 GFLOPs\n",
            "image 1/23 /content/drive/MyDrive/test_manhole/-0Q9X3KqBrhdlGzap-YToQ_jpg.rf.0fa1f13aafb529e5fbdee932d5373cb2.jpg: 640x640 2 manholes, 11.7ms\n",
            "image 2/23 /content/drive/MyDrive/test_manhole/-0QdotcnWZMgDLHELjMeoQ_jpg.rf.ddf91e5d827cc1b2cc359d180ebe6b20.jpg: 640x640 1 manhole, 11.6ms\n",
            "image 3/23 /content/drive/MyDrive/test_manhole/0AEbshrlRLCbY98l4gsn8A_jpg.rf.1729ef69c527a56adbb479696202b4e9.jpg: 640x640 (no detections), 11.6ms\n",
            "image 4/23 /content/drive/MyDrive/test_manhole/0BYZodoqfSIog8Wq_86Pcw_jpg.rf.ca85dfaacb49c8af78f7c3ff2726db37.jpg: 640x640 1 manhole, 11.9ms\n",
            "image 5/23 /content/drive/MyDrive/test_manhole/0H93achbX6X9gWnUD5HQ5g_jpg.rf.ca65611e08162a6e5c3d1a15bc511841.jpg: 640x640 1 manhole, 11.6ms\n",
            "image 6/23 /content/drive/MyDrive/test_manhole/0NG5cImskdfupi3EFPxr9g_jpg.rf.7006c98078ede7ae937abc7f2a61e551.jpg: 640x640 1 manhole, 11.6ms\n",
            "image 7/23 /content/drive/MyDrive/test_manhole/0PYz7SHX2oYseaFxgBkNYQ_jpg.rf.175fc6c0e9f1539a4e18dd42df823b98.jpg: 640x640 (no detections), 11.6ms\n",
            "image 8/23 /content/drive/MyDrive/test_manhole/0RIIRZW6m9YSJsv9s3h6Gw_jpg.rf.5ba284a134b6ba91ca0c26eca5f8ed7f.jpg: 640x640 2 manholes, 11.6ms\n",
            "image 9/23 /content/drive/MyDrive/test_manhole/0ac-yCaYgJKY-IrKX4p5_A_jpg.rf.9e925da18e68b9ab79163d89d5f77047.jpg: 640x640 1 manhole, 11.6ms\n",
            "image 10/23 /content/drive/MyDrive/test_manhole/0et5RoogCQnayE3OcT7y_w_jpg.rf.ddd7020b5a04388a104bbc80acfc3022.jpg: 640x640 1 manhole, 11.6ms\n",
            "image 11/23 /content/drive/MyDrive/test_manhole/0hfmiSEJtXFYhxs4XxR7PA_jpg.rf.46d5afb35269947a055e5abcf96c2ba8.jpg: 640x640 1 manhole, 11.6ms\n",
            "image 12/23 /content/drive/MyDrive/test_manhole/0pmSw3W7bqJbR01NgGfZsA_jpg.rf.cc86076cc74b82ef70b7742acab5f283.jpg: 640x640 1 manhole, 31.2ms\n",
            "image 13/23 /content/drive/MyDrive/test_manhole/0qBy7R2vDFLyiqcZCopZNQ_jpg.rf.7dc3d16f70aef180f26ec643910b98f7.jpg: 640x640 2 manholes, 11.6ms\n",
            "image 14/23 /content/drive/MyDrive/test_manhole/0s68xTBkClaI37EqcgRRaw_jpg.rf.e5773d922681ba27c1dcc20c4d8c7f8f.jpg: 640x640 2 manholes, 11.6ms\n",
            "image 15/23 /content/drive/MyDrive/test_manhole/1JRryoqqxd_SdyekGSt7vw_jpg.rf.3c46adba610d7d5eb75bde7a70328c24.jpg: 640x640 1 manhole, 11.7ms\n",
            "image 16/23 /content/drive/MyDrive/test_manhole/1MoFjt8lFydFWvuKu_jOWQ_jpg.rf.f007a255c10f95256116846d6e0a3093.jpg: 640x640 (no detections), 11.6ms\n",
            "image 17/23 /content/drive/MyDrive/test_manhole/1hxirTSvLujshHM8_tc5qg_jpg.rf.b0cf5607882f30e1b1c8604a4ee0db40.jpg: 640x640 1 manhole, 11.6ms\n",
            "image 18/23 /content/drive/MyDrive/test_manhole/1jYSWLJkE7G3cvDsGcLRCg_jpg.rf.8df6e70aa1aba91cf0df18962e838966.jpg: 640x640 1 manhole, 11.6ms\n",
            "image 19/23 /content/drive/MyDrive/test_manhole/1kRTBIZtpt_iexwaAVkbdQ_jpg.rf.72e9785c1813a5c393fca736645f758e.jpg: 640x640 1 manhole, 11.6ms\n",
            "image 20/23 /content/drive/MyDrive/test_manhole/1riRzRh6e3Xhu3GZxjIYlg_jpg.rf.6b80b0246a86d9ea46cbe80de311062e.jpg: 640x640 1 manhole, 11.6ms\n",
            "image 21/23 /content/drive/MyDrive/test_manhole/_64FLb1x0_SKkWCe_CTqFA_jpg.rf.d38ff58859712a220193b7ab01653746.jpg: 640x640 1 manhole, 11.6ms\n",
            "image 22/23 /content/drive/MyDrive/test_manhole/_fxk7D4bKnZnea06em0Tfw_jpg.rf.a6c56b599440677d81e252d8801c5670.jpg: 640x640 1 manhole, 11.6ms\n",
            "image 23/23 /content/drive/MyDrive/test_manhole/_rjKXWZmKXyYNMxw9YTN6Q_jpg.rf.7e9b1d7221d9a84de1afda434b40b739.jpg: 640x640 1 manhole, 11.6ms\n",
            "Speed: 0.7ms pre-process, 12.5ms inference, 22.4ms NMS per image at shape (1, 3, 640, 640)\n",
            "Results saved to \u001b[1mruns/detect/exp2\u001b[0m\n"
          ]
        }
      ]
    }
  ]
}